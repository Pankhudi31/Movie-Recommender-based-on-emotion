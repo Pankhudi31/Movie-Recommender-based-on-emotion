{
  "nbformat": 4,
  "nbformat_minor": 0,
  "metadata": {
    "colab": {
      "name": "Movie Recommendation based on emotion.ipynb",
      "provenance": [],
      "authorship_tag": "ABX9TyOMq73C3Zf/BDDuqFTYMson",
      "include_colab_link": true
    },
    "kernelspec": {
      "name": "python3",
      "display_name": "Python 3"
    },
    "language_info": {
      "name": "python"
    }
  },
  "cells": [
    {
      "cell_type": "markdown",
      "metadata": {
        "id": "view-in-github",
        "colab_type": "text"
      },
      "source": [
        "<a href=\"https://colab.research.google.com/github/Pankhudi31/Movie-Recommender-based-on-emotion/blob/main/Movie_Recommendation_based_on_emotion.ipynb\" target=\"_parent\"><img src=\"https://colab.research.google.com/assets/colab-badge.svg\" alt=\"Open In Colab\"/></a>"
      ]
    },
    {
      "cell_type": "code",
      "execution_count": null,
      "metadata": {
        "colab": {
          "base_uri": "https://localhost:8080/"
        },
        "id": "kD4jLQpE37YZ",
        "outputId": "3b9d8c29-a090-48aa-df93-ae3dfe8f625b"
      },
      "outputs": [
        {
          "output_type": "stream",
          "name": "stdout",
          "text": [
            "Requirement already satisfied: lxml in /usr/local/lib/python3.7/dist-packages (4.2.6)\n"
          ]
        }
      ],
      "source": [
        "pip install lxml"
      ]
    },
    {
      "cell_type": "code",
      "source": [
        "pip install beautifulsoup4"
      ],
      "metadata": {
        "colab": {
          "base_uri": "https://localhost:8080/"
        },
        "id": "Tk2iJPAm4luc",
        "outputId": "ab0836e5-54ea-4479-ab56-4d8ffba30809"
      },
      "execution_count": null,
      "outputs": [
        {
          "output_type": "stream",
          "name": "stdout",
          "text": [
            "Requirement already satisfied: beautifulsoup4 in /usr/local/lib/python3.7/dist-packages (4.6.3)\n"
          ]
        }
      ]
    },
    {
      "cell_type": "code",
      "source": [
        "# Python3 code for movie\n",
        "# recommendation based on\n",
        "# emotion\n",
        "\n",
        "# Import library for web\n",
        "# scrapping\n",
        "from bs4 import BeautifulSoup as SOUP\n",
        "import re\n",
        "import requests as HTTP\n",
        "\n",
        "# Main Function for scraping\n",
        "def main(emotion):\n",
        "\n",
        "\t# IMDb Url for Drama genre of\n",
        "\t# movie against emotion Sad\n",
        "\tif(emotion == \"Sad\"):\n",
        "\t\turlhere = 'http://www.imdb.com/search/title?genres=drama&title_type=feature&sort=moviemeter, asc'\n",
        "\n",
        "\t# IMDb Url for Musical genre of\n",
        "\t# movie against emotion Disgust\n",
        "\telif(emotion == \"Disgust\"):\n",
        "\t\turlhere = 'http://www.imdb.com/search/title?genres=musical&title_type=feature&sort=moviemeter, asc'\n",
        "\n",
        "\t# IMDb Url for Family genre of\n",
        "\t# movie against emotion Anger\n",
        "\telif(emotion == \"Anger\"):\n",
        "\t\turlhere = 'http://www.imdb.com/search/title?genres=family&title_type=feature&sort=moviemeter, asc'\n",
        "\n",
        "\t# IMDb Url for Thriller genre of\n",
        "\t# movie against emotion Anticipation\n",
        "\telif(emotion == \"Anticipation\"):\n",
        "\t\turlhere = 'http://www.imdb.com/search/title?genres=thriller&title_type=feature&sort=moviemeter, asc'\n",
        "\n",
        "\t# IMDb Url for Sport genre of\n",
        "\t# movie against emotion Fear\n",
        "\telif(emotion == \"Fear\"):\n",
        "\t\turlhere = 'http://www.imdb.com/search/title?genres=sport&title_type=feature&sort=moviemeter, asc'\n",
        "\n",
        "\t# IMDb Url for Thriller genre of\n",
        "\t# movie against emotion Enjoyment\n",
        "\telif(emotion == \"Enjoyment\"):\n",
        "\t\turlhere = 'http://www.imdb.com/search/title?genres=thriller&title_type=feature&sort=moviemeter, asc'\n",
        "\n",
        "\t# IMDb Url for Western genre of\n",
        "\t# movie against emotion Trust\n",
        "\telif(emotion == \"Trust\"):\n",
        "\t\turlhere = 'http://www.imdb.com/search/title?genres=western&title_type=feature&sort=moviemeter, asc'\n",
        "\n",
        "\t# IMDb Url for Film_noir genre of\n",
        "\t# movie against emotion Surprise\n",
        "\telif(emotion == \"Surprise\"):\n",
        "\t\turlhere = 'http://www.imdb.com/search/title?genres=film_noir&title_type=feature&sort=moviemeter, asc'\n",
        "\n",
        "\t# HTTP request to get the data of\n",
        "\t# the whole page\n",
        "\tresponse = HTTP.get(urlhere)\n",
        "\tdata = response.text\n",
        "\n",
        "\t# Parsing the data using\n",
        "\t# BeautifulSoup\n",
        "\tsoup = SOUP(data, \"lxml\")\n",
        "\n",
        "\t# Extract movie titles from the\n",
        "\t# data using regex\n",
        "\ttitle = soup.find_all(\"a\", attrs = {\"href\" : re.compile(r'\\/title\\/tt+\\d*\\/')})\n",
        "\treturn title\n",
        "\n",
        "# Driver Function\n",
        "if __name__ == '__main__':\n",
        "\n",
        "\temotion = input(\"Enter the emotion: \")\n",
        "\ta = main(emotion)\n",
        "\tcount = 0\n",
        "\n",
        "\tif(emotion == \"Disgust\" or emotion == \"Anger\"\n",
        "\t\t\t\t\t\tor emotion==\"Surprise\"):\n",
        "\n",
        "\t\tfor i in a:\n",
        "\n",
        "\t\t\t# Splitting each line of the\n",
        "\t\t\t# IMDb data to scrape movies\n",
        "\t\t\ttmp = str(i).split('>;')\n",
        "\n",
        "\t\t\tif(len(tmp) == 3):\n",
        "\t\t\t\tprint(tmp[1][:-3])\n",
        "\n",
        "\t\t\tif(count > 13):\n",
        "\t\t\t\tbreak\n",
        "\t\t\tcount += 1\n",
        "\telse:\n",
        "\t\tfor i in a:\n",
        "\t\t\ttmp = str(i).split('>')\n",
        "\n",
        "\t\t\tif(len(tmp) == 3):\n",
        "\t\t\t\tprint(tmp[1][:-3])\n",
        "\n",
        "\t\t\tif(count > 11):\n",
        "\t\t\t\tbreak\n",
        "\t\t\tcount+=1\n"
      ],
      "metadata": {
        "colab": {
          "base_uri": "https://localhost:8080/"
        },
        "id": "TiNsUgXc4q9c",
        "outputId": "56020fbe-e3de-4804-d336-e7d4e94fdacf"
      },
      "execution_count": null,
      "outputs": [
        {
          "output_type": "stream",
          "name": "stdout",
          "text": [
            "Enter the emotion: Sad\n",
            "Don't Look Up\n",
            "Encanto\n",
            "The Power of the Dog\n",
            "The Tender Bar\n"
          ]
        }
      ]
    }
  ]
}